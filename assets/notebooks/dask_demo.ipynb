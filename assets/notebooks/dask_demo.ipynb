{
 "cells": [
  {
   "cell_type": "markdown",
   "id": "95aa9769-f152-4e1e-9e48-c0dc22410d1d",
   "metadata": {},
   "source": [
    "## Speeding up xarray calculations using dask\n",
    "\n",
    "This notebook demonstrates how to use the `dask` package to parallelise operations in xarray which (if used correctly and with some luck!) can massively speed up xarray.\n",
    "\n",
    "**For this to work you first need to have installed `dask`** (and `xarray`, `netcdf4`, etc.)\n",
    "\n",
    "This demonstration uses some ERA5 data which happens to be in `.grib` format but this should work with any data once it is opened using xarray\n",
    "\n",
    "---\n",
    "\n",
    "First import packages, open the dataset, and define a decorator function that can be used to time functions. Note that you **do not need to import dask**. But we do import `dask.diagnostic`'s useful `ProgressBar`"
   ]
  },
  {
   "cell_type": "code",
   "execution_count": 1,
   "id": "e7092eb4-7a00-4669-bb0a-430618c319e8",
   "metadata": {},
   "outputs": [
    {
     "name": "stderr",
     "output_type": "stream",
     "text": [
      "Ignoring index file '/nfs/a68/eebjs/hardknott/drought/vpd_variables.grib.923a8.idx' older than GRIB file\n"
     ]
    }
   ],
   "source": [
    "import xarray as xr\n",
    "import pandas as pd\n",
    "import numpy as np\n",
    "from dask.diagnostics import ProgressBar\n",
    "import time\n",
    "\n",
    "ds = xr.open_dataset('/nfs/a68/eebjs/hardknott/drought/vpd_variables.grib',\n",
    "                     engine='cfgrib')\n",
    "\n",
    "# I got ChatGPT to write me this!\n",
    "def timer(func):\n",
    "    def wrapper(*args, **kwargs):\n",
    "        start_time = time.time()\n",
    "        result = func(*args, **kwargs)\n",
    "        end_time = time.time()\n",
    "        print(f\"Function {func.__name__}\",\n",
    "              f\"took {round(end_time - start_time)}\",\n",
    "              \"seconds to execute.\")\n",
    "        return result\n",
    "    return wrapper"
   ]
  },
  {
   "cell_type": "markdown",
   "id": "fca613c1-184f-4cdc-90af-9f1a1b712069",
   "metadata": {},
   "source": [
    "On a multi-cored machine, dask will speed up xarray operations by performing calculations on multiple cores at the same time. For this to happen, the dataset/dataarray first has to be 'chunked.' For example, if you have a 1000x1000 sized `da` with dimensions `x `and `y`, you could split it into four 500x500 chunks:\n",
    "```\n",
    "da = da.chunk({'x': 2, 'y': 2})\n",
    "```\n",
    "\n",
    "The `cpu_count` function from the multiprocessing module can check how may cores the machine you are using has:"
   ]
  },
  {
   "cell_type": "code",
   "execution_count": 2,
   "id": "e843e8a4-dc28-4f8d-b86a-09955930a305",
   "metadata": {},
   "outputs": [
    {
     "name": "stdout",
     "output_type": "stream",
     "text": [
      "32\n"
     ]
    }
   ],
   "source": [
    "from multiprocessing import cpu_count\n",
    "print(cpu_count())"
   ]
  },
  {
   "cell_type": "markdown",
   "id": "babbd4f5-e000-4a7a-9b54-bc369e0bb45c",
   "metadata": {},
   "source": [
    "The `ds` we have loaded in has three variables, surface pressure (`sp`), 2m temperature (`t2m`) and 2m dew point temperature (`d2m`). It is about 8Gb"
   ]
  },
  {
   "cell_type": "code",
   "execution_count": 3,
   "id": "6eb71218-db1f-4910-b548-7496a7f8cdf8",
   "metadata": {},
   "outputs": [
    {
     "name": "stdout",
     "output_type": "stream",
     "text": [
      "<xarray.Dataset>\n",
      "Dimensions:     (time: 702, latitude: 1501, longitude: 3600)\n",
      "Coordinates:\n",
      "    number      int64 ...\n",
      "  * time        (time) datetime64[ns] 1965-01-01 1965-02-01 ... 2023-06-01\n",
      "    step        timedelta64[ns] ...\n",
      "    surface     float64 ...\n",
      "  * latitude    (latitude) float64 75.0 74.9 74.8 74.7 ... -74.8 -74.9 -75.0\n",
      "  * longitude   (longitude) float64 -180.0 -179.9 -179.8 ... 179.7 179.8 179.9\n",
      "    valid_time  (time) datetime64[ns] ...\n",
      "Data variables:\n",
      "    d2m         (time, latitude, longitude) float32 ...\n",
      "    t2m         (time, latitude, longitude) float32 ...\n",
      "    sp          (time, latitude, longitude) float32 ...\n",
      "Attributes:\n",
      "    GRIB_edition:            1\n",
      "    GRIB_centre:             ecmf\n",
      "    GRIB_centreDescription:  European Centre for Medium-Range Weather Forecasts\n",
      "    GRIB_subCentre:          0\n",
      "    Conventions:             CF-1.7\n",
      "    institution:             European Centre for Medium-Range Weather Forecasts\n",
      "    history:                 2024-03-21T14:46 GRIB to CDM+CF via cfgrib-0.9.1...\n"
     ]
    }
   ],
   "source": [
    "print(ds)"
   ]
  },
  {
   "cell_type": "markdown",
   "id": "d6edab55-65d9-40cb-bc50-c55e19f6a83d",
   "metadata": {},
   "source": [
    "These will be used to calculate vapour pressure deficit (vpd). This involves performing several operations using all three variables of the dataset. The calculation is performed using the following function."
   ]
  },
  {
   "cell_type": "code",
   "execution_count": 4,
   "id": "53479d4e-55cb-41bf-84c4-d8b9977ed865",
   "metadata": {},
   "outputs": [],
   "source": [
    "def calculate_vpd(ds):\n",
    "\n",
    "    t2m_c = ds['t2m'] - 273.15\n",
    "    d2m_c = ds['d2m'] - 273.15\n",
    "    sp_mb = ds['sp'] / 100\n",
    "\n",
    "    # first calculate saturated vapour pressure\n",
    "    fw = 1 + 7e-4 + 3.46e-6 * sp_mb\n",
    "    svp = 6.112 * fw * np.exp( (17.67 * t2m_c) / (t2m_c + 243.5) )\n",
    "\n",
    "    # then calculate actual vapour pressure\n",
    "    avp = 6.112 * fw * np.exp( (17.67 * d2m_c) / (d2m_c + 243.5) )\n",
    "\n",
    "    # then vapour pressure deficit is:\n",
    "    vpd = svp - avp\n",
    "\n",
    "    return vpd"
   ]
  },
  {
   "cell_type": "markdown",
   "id": "1075493c-3ae6-4203-a376-f8abd6c3b52c",
   "metadata": {},
   "source": [
    "---\n",
    "### Without using dask\n",
    "\n",
    "First to get a baseline, we calculate without chunking (i.e. **NOT** using dask)"
   ]
  },
  {
   "cell_type": "code",
   "execution_count": 5,
   "id": "e62f01fc-950a-4572-8cba-da7ba3513770",
   "metadata": {},
   "outputs": [
    {
     "name": "stdout",
     "output_type": "stream",
     "text": [
      "Function calculate_vpd_without_chunking took 334 seconds to execute.\n"
     ]
    }
   ],
   "source": [
    "@timer\n",
    "def calculate_vpd_without_chunking(ds):\n",
    "    vpd = calculate_vpd(ds)\n",
    "    return vpd\n",
    "\n",
    "vpd = calculate_vpd_without_chunking(ds)"
   ]
  },
  {
   "cell_type": "markdown",
   "id": "fd237a06-0c46-48b5-b4fe-26028daecd6f",
   "metadata": {},
   "source": [
    "### Using dask\n",
    "\n",
    "When you perform calculations with dask (e.g. `ds * 2`), the result will not yet be returned. Instead a 'delayed' result will be returned. The result can then either be calculated by calling the `.compute()` method, or it can be using to perform further operation where it will again return a delayed result. In this way, you can 'queue up` multiple operations and then perform them all at the same time.\n",
    "\n",
    "When you call `.compute()`, an 'unchunked' dataset with the operation performed will be returned. If you want to keep the chunks but still return the result, you can instead call `.persist()`\n",
    "\n",
    "Now the same thing but using dask:"
   ]
  },
  {
   "cell_type": "code",
   "execution_count": 7,
   "id": "fbfd962a-25e0-487f-93b6-d51497dda026",
   "metadata": {},
   "outputs": [
    {
     "name": "stdout",
     "output_type": "stream",
     "text": [
      "[########################################] | 100% Completed | 16.68 s\n",
      "Function calculate_vpd_with_chunking took 22 seconds to execute.\n"
     ]
    }
   ],
   "source": [
    "@timer\n",
    "def calculate_vpd_with_chunking(ds):\n",
    "\n",
    "    ds = ds.chunk({'time':24})\n",
    "\n",
    "    vpd = calculate_vpd(ds)\n",
    "\n",
    "    with ProgressBar():\n",
    "        vpd = vpd.compute(num_workers=30, scheduler='threads')\n",
    "    return vpd\n",
    "\n",
    "vpd = calculate_vpd_with_chunking(ds)"
   ]
  },
  {
   "cell_type": "markdown",
   "id": "27b1b42a-6006-45ab-b5e2-2f3df2b6cbfb",
   "metadata": {},
   "source": [
    "In this case, the chunked version only took 22 seconds to run, over 15 times quicker than when not using dask.\n",
    "\n",
    "---\n",
    "### Which dimensions to chunk?\n",
    "In the above example, it shouldn't make too much of a difference which dimensions are chunked, because none of the calculations are being performed across dimensions. However, in the next example, we will take the rolling temporal mean, by calculating the annual means for each 36 months during 1965-2023. In this case, it is faster to calculate across dimensions that are not being reduced in the calculation (i.e. lat and lon). This is because it will be more efficient to calculate the mean if the time dimension is not chunked, so one core has all the values it needs to calculate the mean for a latlon gridcell, rather than time being split across cores.\n",
    "\n",
    "\n",
    "First establish a baseline by performing the calculation without any chunking:"
   ]
  },
  {
   "cell_type": "code",
   "execution_count": 24,
   "id": "b93f1d37-79ad-4c74-8e3e-3e9c1ee868fb",
   "metadata": {},
   "outputs": [
    {
     "name": "stdout",
     "output_type": "stream",
     "text": [
      "Function calculate_spatial_mean_vpd_without_chunking took 283 seconds to execute.\n"
     ]
    }
   ],
   "source": [
    "@timer\n",
    "def calculate_spatial_mean_vpd_without_chunking(vpd):\n",
    "    mean_vpd = vpd.rolling({'time':36}).mean(dim='time')\n",
    "    return mean_vpd\n",
    "\n",
    "mean_vpd = calculate_spatial_mean_vpd_without_chunking(ds)"
   ]
  },
  {
   "cell_type": "markdown",
   "id": "18f08562-40d7-4f38-9546-16a513e8650e",
   "metadata": {},
   "source": [
    "Now chunking across time (the *WRONG* way)"
   ]
  },
  {
   "cell_type": "code",
   "execution_count": 22,
   "id": "05edb573-61e9-44ed-abdc-ad08a917ab9f",
   "metadata": {},
   "outputs": [
    {
     "name": "stdout",
     "output_type": "stream",
     "text": [
      "[########################################] | 100% Completed | 79.81 s\n",
      "Function calculate_mean_vpd_chunking_across_time took 105 seconds to execute.\n"
     ]
    }
   ],
   "source": [
    "@timer\n",
    "def calculate_mean_vpd_chunking_across_time(vpd):\n",
    "\n",
    "    # chunk across time\n",
    "    vpd = vpd.chunk({'time':24})\n",
    "\n",
    "    # compute the mean\n",
    "    with ProgressBar():\n",
    "        mean_vpd = vpd.rolling({'time':36}).mean('time').compute(num_workers=30, scheduler='threads')\n",
    "    return mean_vpd\n",
    "\n",
    "mean_vpd = calculate_mean_vpd_chunking_across_time(vpd)"
   ]
  },
  {
   "cell_type": "code",
   "execution_count": 23,
   "id": "92cccd9a-fbfc-40d4-bd27-829d16dba2f8",
   "metadata": {},
   "outputs": [
    {
     "name": "stdout",
     "output_type": "stream",
     "text": [
      "[########################################] | 100% Completed | 43.50 ss\n",
      "Function calculate_mean_vpd_chunking_across_space took 67 seconds to execute.\n"
     ]
    }
   ],
   "source": [
    "@timer\n",
    "def calculate_mean_vpd_chunking_across_space(vpd):\n",
    "\n",
    "    # chunk across time\n",
    "    vpd = vpd.chunk({'latitude':300, 'longitude':600})\n",
    "\n",
    "    # compute the mean\n",
    "    with ProgressBar():\n",
    "        mean_vpd = vpd.rolling({'time':36}).mean('time').compute(num_workers=30, scheduler='threads')\n",
    "    return mean_vpd\n",
    "\n",
    "mean_vpd = calculate_mean_vpd_chunking_across_space(vpd)"
   ]
  },
  {
   "cell_type": "markdown",
   "id": "5cc73afc-8d7d-41b2-a672-a19634c8464f",
   "metadata": {},
   "source": [
    "In this example chunking the 'right' way was only about 1.5x faster than the wrong way, but this could be much more important depending on the shape of your array and types of operations being performed. In any case chunking was faster (3-4x) than doing the sample calculation without using dask.\n",
    "Note that I tried to keep the total number of chunks similar in both examples to make this a fair comparison.\n",
    "\n",
    "---\n",
    "\n",
    "### The effect of chunk size\n",
    "\n",
    "Chunk size is another important thing to get right. It is usually worth playing around with a bit to make sure the size is efficient. Usually I try to chunk the array so the total number of chunks is about the same as the number of cores I am using (i.e. the `num_workers` argument)\n",
    "\n",
    "The below code tests a range of chunk sizes in the time take to calculate the mean of vpd"
   ]
  },
  {
   "cell_type": "code",
   "execution_count": 27,
   "id": "76a7491e-496e-45ff-8057-00c838d94fdb",
   "metadata": {},
   "outputs": [
    {
     "data": {
      "text/plain": [
       "<Axes: xlabel='chunksize', ylabel='time (seconds)'>"
      ]
     },
     "execution_count": 27,
     "metadata": {},
     "output_type": "execute_result"
    },
    {
     "data": {
      "image/png": "[encoded data removed]",
      "text/plain": [
       "<Figure size 640x480 with 1 Axes>"
      ]
     },
     "metadata": {},
     "output_type": "display_data"
    }
   ],
   "source": [
    "da = vpd[:, :200, :200] # taking a smaller slice of the array so that the calculation is faster\n",
    "\n",
    "def calculate_mean(da, chunksize):\n",
    "\n",
    "    # time the chunking overhead\n",
    "    start = time.time()\n",
    "    da = da.chunk({'time':chunksize})\n",
    "    end = time.time()\n",
    "    chunking_time = end-start\n",
    "\n",
    "    # time the actual calculation\n",
    "    start = time.time()\n",
    "    _ = da.mean(['latitude', 'longitude']).compute(num_workers=30, scheduler='threads')\n",
    "    end = time.time()\n",
    "    calculation_time = end-start\n",
    "\n",
    "    return pd.Series(\n",
    "        [chunking_time, calculation_time],\n",
    "        index=['chunking time', 'calculation time']\n",
    "                     )\n",
    "\n",
    "results = pd.DataFrame()\n",
    "for chunksize in [2,4,8,16,32,64,128, 256, 512]:\n",
    "    results[chunksize] = calculate_mean(da, chunksize=chunksize)\n",
    "\n",
    "results.T.plot.bar(grid=True, xlabel='chunksize', ylabel='time (seconds)',\n",
    "                   stacked=True)"
   ]
  },
  {
   "cell_type": "markdown",
   "id": "5fcd1973-6a5f-4eeb-a62a-d983240ba015",
   "metadata": {},
   "source": [
    "In this case the optimum chunksize seems to be around 64. The chunking time does not seem to vary much, but the calculation time does.\n",
    "Let's try the same thing chunking across lat/lon"
   ]
  },
  {
   "cell_type": "code",
   "execution_count": 29,
   "id": "f1207048-12f0-4c3c-a0d5-3b71277f2ea2",
   "metadata": {},
   "outputs": [
    {
     "data": {
      "text/plain": [
       "<Axes: xlabel='chunksize', ylabel='time (seconds)'>"
      ]
     },
     "execution_count": 29,
     "metadata": {},
     "output_type": "execute_result"
    },
    {
     "data": {
      "image/png": "[encoded data removed]",
      "text/plain": [
       "<Figure size 640x480 with 1 Axes>"
      ]
     },
     "metadata": {},
     "output_type": "display_data"
    }
   ],
   "source": [
    "da = vpd[:10] # taking a smaller slice of the array so that the calculation is faster\n",
    "\n",
    "def calculate_mean(da, chunksize):\n",
    "\n",
    "    # time the chunking overhead\n",
    "    start = time.time()\n",
    "    da = da.chunk({'latitude':chunksize, 'longitude':chunksize})\n",
    "    end = time.time()\n",
    "    chunking_time = end-start\n",
    "\n",
    "    # time the actual calculation\n",
    "    start = time.time()\n",
    "    _ = da.mean(['time']).compute(num_workers=30, scheduler='threads')\n",
    "    end = time.time()\n",
    "    calculation_time = end-start\n",
    "\n",
    "    return pd.Series(\n",
    "        [chunking_time, calculation_time],\n",
    "        index=['chunking time', 'calculation time']\n",
    "                     )\n",
    "\n",
    "results = pd.DataFrame()\n",
    "for chunksize in [20,40,80,160,320,640,1280, 2560]:\n",
    "    results[chunksize] = calculate_mean(da, chunksize=chunksize)\n",
    "\n",
    "results.T.plot.bar(grid=True, xlabel='chunksize', ylabel='time (seconds)',\n",
    "                   stacked=True)"
   ]
  },
  {
   "cell_type": "markdown",
   "id": "85a429d0-9a15-490d-9be7-3344544b7e4b",
   "metadata": {},
   "source": [
    "In this case it seems that larger chunks give a much better performance, with 640 being optimum. You can also chunk by setting the total number of chunks or letting dask choose the number of chunks with `chunks='auto'`"
   ]
  },
  {
   "cell_type": "code",
   "execution_count": 43,
   "id": "3caa614a-d7d2-43ea-9ecf-55c3b05f4cff",
   "metadata": {},
   "outputs": [
    {
     "name": "stdout",
     "output_type": "stream",
     "text": [
      "auto\n",
      "600\n",
      "300\n",
      "150\n",
      "75\n",
      "36\n",
      "18\n"
     ]
    },
    {
     "data": {
      "text/plain": [
       "<Axes: xlabel='chunksize', ylabel='time (seconds)'>"
      ]
     },
     "execution_count": 43,
     "metadata": {},
     "output_type": "execute_result"
    },
    {
     "data": {
      "image/png": "[encoded data removed]",
      "text/plain": [
       "<Figure size 640x480 with 1 Axes>"
      ]
     },
     "metadata": {},
     "output_type": "display_data"
    }
   ],
   "source": [
    "da = vpd[:, :200, :200] # taking a smaller slice of the array so that the calculation is faster\n",
    "\n",
    "def calculate_mean(da, chunksize):\n",
    "\n",
    "    # time the chunking overhead\n",
    "    start = time.time()\n",
    "    da = da.chunk(chunksize)\n",
    "    end = time.time()\n",
    "    chunking_time = end-start\n",
    "\n",
    "    # time the actual calculation\n",
    "    start = time.time()\n",
    "    _ = da.mean(['latitude', 'longitude']).compute(num_workers=30, scheduler='threads')\n",
    "    end = time.time()\n",
    "    calculation_time = end-start\n",
    "\n",
    "    return pd.Series(\n",
    "        [chunking_time, calculation_time],\n",
    "        index=['chunking time', 'calculation time']\n",
    "                     )\n",
    "\n",
    "\n",
    "results = pd.DataFrame()\n",
    "for chunksize in ['auto',600, 300,150,75,36,18]:\n",
    "    print(chunksize)\n",
    "    results[chunksize] = calculate_mean(da, chunksize=chunksize)\n",
    "\n",
    "results.T.plot.bar(grid=True, xlabel='chunksize', ylabel='time (seconds)',\n",
    "                   stacked=True)"
   ]
  },
  {
   "cell_type": "markdown",
   "id": "70b4ff56-dd96-40cf-87e9-b3e03e3dac93",
   "metadata": {},
   "source": [
    "But it looks like 'auto' isn't always the best! "
   ]
  }
 ],
 "metadata": {
  "kernelspec": {
   "display_name": "Python 3 (ipykernel)",
   "language": "python",
   "name": "python3"
  },
  "language_info": {
   "codemirror_mode": {
    "name": "ipython",
    "version": 3
   },
   "file_extension": ".py",
   "mimetype": "text/x-python",
   "name": "python",
   "nbconvert_exporter": "python",
   "pygments_lexer": "ipython3",
   "version": "3.11.4"
  }
 },
 "nbformat": 4,
 "nbformat_minor": 5
}
