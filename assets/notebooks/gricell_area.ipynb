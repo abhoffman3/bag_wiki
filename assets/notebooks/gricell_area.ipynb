{
 "cells": [
  {
   "cell_type": "code",
   "execution_count": 22,
   "id": "94a1aab2-533f-4293-a30f-89a3a3b881d6",
   "metadata": {},
   "outputs": [],
   "source": [
    "from pyproj import Geod\n",
    "from shapely.geometry import LineString, Point, Polygon\n",
    "import pandas as pd\n",
    "\n",
    "# function takes lat+lon gridcell centres as well as the resolution as input\n",
    "def get_latlon_areas(latcentres, loncentres, latres, lonres):\n",
    "    \n",
    "    \"\"\"Calculate the area of gridcells on a regular grid\n",
    "       using polygons\n",
    "\n",
    "     Parameters:\n",
    "     latcentres (array): The latitude centres of the gridcells\n",
    "     loncentres (array): The longitude centres of the gridcells\n",
    "     latres (float): The latitude resolution\n",
    "     lonres (float): The longitude resolution\n",
    "    \n",
    "     Returns:\n",
    "     xarray.DataArray: DataArray of areas in metres squared\n",
    "    \n",
    "    \"\"\"\n",
    "\n",
    "    geod = Geod(ellps=\"WGS84\")\n",
    "    \n",
    "    areas = pd.Series(dtype=float, index=latcentres)\n",
    "    for clat in latcentres:\n",
    "        # get bounds from coords\n",
    "        lat_south, lat_north = clat - latres/2, clat + latres/2\n",
    "        # (only need to do it for one longitude)\n",
    "        lon_west, lon_east = 0 - lonres/2, 0 + lonres/2\n",
    "\n",
    "        # create polygon\n",
    "        poly = Polygon(\n",
    "\n",
    "               LineString([\n",
    "                   Point(lon_east, lat_south),\n",
    "                   Point(lon_east, lat_north),\n",
    "                   Point(lon_west, lat_north),\n",
    "                   Point(lon_west, lat_south)\n",
    "                   ])\n",
    "\n",
    "            )\n",
    "        \n",
    "        # this computes the area in metres ^2\n",
    "        area, _ = geod.geometry_area_perimeter(poly)\n",
    "        areas.loc[clat] = area\n",
    "    \n",
    "    # make a dataarray\n",
    "    da = xr.DataArray(areas, dims={\"lat\":latcentres})\n",
    "    # add longitudes in\n",
    "    da = da.expand_dims({\"lon\":loncentres})\n",
    "    \n",
    "    return da"
   ]
  },
  {
   "cell_type": "markdown",
   "id": "faa755d2-f97f-4756-b696-2d5431c79460",
   "metadata": {},
   "source": [
    "Now let's see if it works by calculating the area of the earth"
   ]
  },
  {
   "cell_type": "code",
   "execution_count": 18,
   "id": "393b07e7-b63f-4d99-981e-091c5e5d8fb6",
   "metadata": {},
   "outputs": [],
   "source": [
    "import numpy as np\n",
    "import xarray as xr\n",
    "\n",
    "res = 1\n",
    "global_grid = xr.DataArray(coords=[(\"lon\", np.arange(-180+res/2, 180, res)),\n",
    "                                   (\"lat\", np.arange(-90+res/2, 90, res))])"
   ]
  },
  {
   "cell_type": "code",
   "execution_count": 19,
   "id": "9a5a0d35-9607-45d9-8f43-525a70300abd",
   "metadata": {},
   "outputs": [
    {
     "name": "stdout",
     "output_type": "stream",
     "text": [
      "<xarray.DataArray (lon: 360, lat: 180)>\n",
      "array([[nan, nan, nan, ..., nan, nan, nan],\n",
      "       [nan, nan, nan, ..., nan, nan, nan],\n",
      "       [nan, nan, nan, ..., nan, nan, nan],\n",
      "       ...,\n",
      "       [nan, nan, nan, ..., nan, nan, nan],\n",
      "       [nan, nan, nan, ..., nan, nan, nan],\n",
      "       [nan, nan, nan, ..., nan, nan, nan]])\n",
      "Coordinates:\n",
      "  * lon      (lon) float64 -179.5 -178.5 -177.5 -176.5 ... 177.5 178.5 179.5\n",
      "  * lat      (lat) float64 -89.5 -88.5 -87.5 -86.5 -85.5 ... 86.5 87.5 88.5 89.5\n"
     ]
    }
   ],
   "source": [
    "print(global_grid)"
   ]
  },
  {
   "cell_type": "code",
   "execution_count": 34,
   "id": "d53a9265-a893-4663-8d4d-591d4fa1604f",
   "metadata": {},
   "outputs": [
    {
     "name": "stdout",
     "output_type": "stream",
     "text": [
      "The area of the Earth is <xarray.DataArray ()>\n",
      "array(5.10065622e+08) km²\n",
      "This is only 0.00125% different to the value on wikipedia\n"
     ]
    }
   ],
   "source": [
    "# calculate area of earth\n",
    "\n",
    "areas = get_latlon_areas(latcentres=global_grid.lat.values, \n",
    "                         loncentres=global_grid.lon.values,\n",
    "                         latres=res, lonres=res)\n",
    "earth_area_km2 = areas.sum()/1e6\n",
    "\n",
    "# according to wikipedia...\n",
    "wiki_earth_area = 510072000\n",
    "\n",
    "print(f'The area of the Earth is {earth_area_km2} km²')\n",
    "print(f'This is only {(wiki_earth_area-earth_area_km2)/wiki_earth_area*100:.5f}%',\n",
    "     'different to the value on wikipedia')"
   ]
  }
 ],
 "metadata": {
  "kernelspec": {
   "display_name": "Python 3 (Spyder)",
   "language": "python3",
   "name": "python3"
  },
  "language_info": {
   "codemirror_mode": {
    "name": "ipython",
    "version": 3
   },
   "file_extension": ".py",
   "mimetype": "text/x-python",
   "name": "python",
   "nbconvert_exporter": "python",
   "pygments_lexer": "ipython3",
   "version": "3.11.6"
  }
 },
 "nbformat": 4,
 "nbformat_minor": 5
}
